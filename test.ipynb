{
 "cells": [
  {
   "cell_type": "code",
   "execution_count": 2,
   "metadata": {},
   "outputs": [],
   "source": [
    "class Test:\n",
    "    X = 1\n",
    "    @classmethod\n",
    "    def updateX(y):\n",
    "        X = y\n",
    "\n",
    "    def __init__(self,Y) -> None:\n",
    "        if Y > self.X: self.updateX(100)"
   ]
  },
  {
   "cell_type": "code",
   "execution_count": 3,
   "metadata": {},
   "outputs": [
    {
     "name": "stdout",
     "output_type": "stream",
     "text": [
      "1\n",
      "1\n"
     ]
    }
   ],
   "source": [
    "print(Test.X)\n",
    "a = Test(50)\n",
    "print(Test.X)"
   ]
  }
 ],
 "metadata": {
  "kernelspec": {
   "display_name": "venv",
   "language": "python",
   "name": "python3"
  },
  "language_info": {
   "codemirror_mode": {
    "name": "ipython",
    "version": 3
   },
   "file_extension": ".py",
   "mimetype": "text/x-python",
   "name": "python",
   "nbconvert_exporter": "python",
   "pygments_lexer": "ipython3",
   "version": "3.11.1"
  },
  "orig_nbformat": 4,
  "vscode": {
   "interpreter": {
    "hash": "9217d8b455a2d1c48a1337bdafbf4a25779a3995498dde35f6292f08aa5ab911"
   }
  }
 },
 "nbformat": 4,
 "nbformat_minor": 2
}
